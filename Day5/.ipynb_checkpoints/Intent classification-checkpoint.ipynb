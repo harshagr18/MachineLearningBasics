{
 "cells": [
  {
   "cell_type": "code",
   "execution_count": 1,
   "metadata": {},
   "outputs": [],
   "source": [
    "from sklearn.datasets import fetch_20newsgroups\n",
    "import pandas as pd\n",
    "from sklearn.model_selection import train_test_split\n",
    "from sklearn.metrics import accuracy_score\n",
    "from gensim.parsing import preprocessing,remove_stopwords\n",
    "from sklearn.feature_extraction.text import TfidfVectorizer\n",
    "from sklearn.ensemble import RandomForestClassifier"
   ]
  },
  {
   "cell_type": "code",
   "execution_count": 2,
   "metadata": {},
   "outputs": [],
   "source": [
    "data=fetch_20newsgroups(shuffle=True,remove=(\"headers\",\"footers\"))"
   ]
  },
  {
   "cell_type": "code",
   "execution_count": 3,
   "metadata": {},
   "outputs": [],
   "source": [
    "df=pd.DataFrame(\n",
    "\n",
    "    data= data.data,\n",
    "    columns= [\"News\"]\n",
    ")\n",
    "df[\"target\"]=data.target\n"
   ]
  },
  {
   "cell_type": "code",
   "execution_count": 4,
   "metadata": {},
   "outputs": [],
   "source": [
    "df2=pd.DataFrame(\n",
    "\n",
    "    data= df.iloc[0:8000,:],\n",
    "    columns= [\"News\"]\n",
    ")\n",
    "df2[\"target\"]=data.target[0:8000]"
   ]
  },
  {
   "cell_type": "code",
   "execution_count": 5,
   "metadata": {},
   "outputs": [],
   "source": [
    "filters = [\n",
    "    \n",
    "    preprocessing.strip_numeric,\n",
    "    preprocessing.strip_punctuation,\n",
    "    preprocessing.strip_tags,\n",
    "    preprocessing.strip_non_alphanum,\n",
    "    preprocessing.strip_multiple_whitespaces,\n",
    "    preprocessing.stem_text\n",
    "]\n",
    "\n",
    "def clean(string):\n",
    "    word_list = preprocessing.preprocess_string(string,filters)\n",
    "    return \" \".join(word.lower() for word in word_list)"
   ]
  },
  {
   "cell_type": "code",
   "execution_count": 6,
   "metadata": {},
   "outputs": [],
   "source": [
    "# newslist=[clean(news) for news in df2]\n",
    "newslist=[]\n",
    "for news in df2[\"News\"]:\n",
    "    newslist.append(clean(news))"
   ]
  },
  {
   "cell_type": "code",
   "execution_count": 7,
   "metadata": {},
   "outputs": [
    {
     "data": {
      "text/plain": [
       "['i wa wonder if anyon out there could enlighten me on thi car i saw the other dai it wa a door sport car look to be from the late s earli s it wa call a bricklin the door were realli small in addit the front bumper wa separ from the rest of the bodi thi is all i know if anyon can tellm a model name engin spec year of product where thi car is made histori or whatev info you have on thi funki look car pleas e mail',\n",
       " 'a fair number of brave soul who upgrad their si clock oscil have share their experi for thi poll pleas send a brief messag detail your experi with the procedur top speed attain cpu rate speed add on card and adapt heat sink hour of usag per dai floppi disk function with and m floppi ar especi request i will be summar in the next two dai so pleas add to the network knowledg base if you have done the clock upgrad and haven t answer thi poll thank',\n",
       " 'well folk my mac plu final gave up the ghost thi weekend after start life as a k wai back in sooo i m in the market for a new machin a bit sooner than i intend to be i m look into pick up a powerbook or mayb and have a bunch of question that hopefulli somebodi can answer doe anybodi know ani dirt on when the next round of powerbook introduct ar expect i d heard the c wa suppos to make an appear thi summer but haven t heard anymor on it and sinc i don t have access to macleak i wa wonder if anybodi out there had more info ha anybodi heard rumor about price drop to the powerbook line like the on the duo s just went through recent what s the impress of the displai on the i could probabl swing a if i got the mb disk rather than the but i don t realli have a feel for how much better the displai is yea it look great in the store but is that all wow or is it realli that good could i solicit some opinion of peopl who us the and dai to dai on if it worth take the disk size and monei hit to get the activ displai i realiz thi is a real subject question but i ve onli plai around with the machin in a comput store breifli and figur the opinion of somebodi who actual us the machin daili might prove help how well doe hellcat perform thank a bunch in advanc for ani info if you could email i ll post a summari new read time is at a premium with final just around the corner tom willi twilli ecn purdu edu purdu electr engin',\n",
       " 'robert j c kyanko rob rjck uucp wrote abraxi iastat edu write in articl abraxi class iastat edu anyon know about the weitek p graphic chip as far as the low level stuff goe it look pretti nice it s got thi quadrilater fill command that requir just the four point do you have weitek s address phone number i d like to get some inform about thi chip',\n",
       " 'from articl cowcb np world std com by tombak world std com tom a baker in articl cjlwx h cs cmu edu etrat ttac ttu edu pack rat write clear caution warn memori verifi no unexpect error i am wonder what an expect error might be sorri if thi is a realli dumb question but pariti error in memori or previous known condit that were waiver ye that is an error but we alreadi knew about it i d be curiou as to what the real mean of the quot is tom my understand is that the expect error ar basic known bug in the warn system softwar thing ar check that don t have the right valu in yet becaus thei aren t set till after launch and suchlik rather than fix the code and possibl introduc new bug thei just tell the crew ok if you see a warn no befor liftoff ignor it',\n",
       " 'in articl reu t transfer stratu com cdt sw stratu com c d tavar write in articl apr ousrvr oulu fi dfo vttoulu tko vtt fi foxvog dougla write in articl qvv j transfer stratu com cdt sw stratu com c d tavar write in articl cngi ff ulowel ulowel edu jrutledg cs ulowel edu john lawrenc rutledg write the massiv destruct power of mani modern weapon make the cost of an accident or crimial usag of these weapon to great the weapon of mass destruct need to be in the control of the govern onli individu access would result in the needless death of million thi make the right of the peopl to keep and bear mani modern weapon non exist thank for state where you re come from needless to sai i disagre on everi count you believ that individu should have the right to own weapon of mass destruct i find it hard to believ that you would support a neighbor s right to keep nuclear weapon biolog weapon and nerv ga on hi her properti if we cannot even agre on keep weapon of mass destruct out of the hand of individu can there be ani hope for us i don t sign ani blank check of cours the term must be rigidli defin in ani bill when doug foxvog sai weapon of mass destruct he mean cbw and nuke when sarah bradi sai weapon of mass destruct she mean street sweeper shotgun and semi automat sk rifl i doubt she us thi term for that you ar us a quot allegedli from her can you back it up when john lawrenc rutledg sai weapon of mass destruct and then immedi follow it with the us ha thousand of peopl kill each year by handgun thi number can easili be reduc by put reason restrict on them what doe rutledg mean by the term i read the articl as present first an argument about weapon of mass destruct as commonli understood and then switch to other topic the first point evid wa to show that not all weapon should be allow and then the later analysi wa given thi understand to consid anoth class cdt rocket sw stratu com if you believ that i speak for my compani or cdt vo stratu com write todai for my special investor packet',\n",
       " 'there were a few peopl who respond to my request for info on treatment for astrocytoma through email whom i couldn t thank directli becaus of mail bounc prob sean debra and sharon so i thought i d publicli thank everyon thank i m sure glad i accident hit rn instead of rm when i wa try to delet a file last septemb hmmm new what s thi',\n",
       " 'dxb psuvm psu edu write in articl qlbrlinnrk dn nmsu edu bgrubb dant nmsu edu grubb sai in pc magazin april although scsi is twice as fasst as esdi faster than id and support up to devic it accept ha long been stall by incompat problem and instal headach i love it when magazin writer make stupid statement like that re perform where do thei get those number i ll list the actual perform rang which should convinc anyon that such a statement is absurd scsi i rang from mb s scsi ii rang from mb s id rang from mb s esdi is alwai mb s although there ar some non standard version all thi show is that you don t know much about scsi scsi with a scsi control chip rang is inde mb s and that is all you have right about scsi scsi with a scsi control chip mb s with mb s burst bit note the increas in speed the mac quadra us thi version of scsi so it doe exist some pc us thi set up too scsi bit scsi mode mb s with mb s burst scsi bit wide or fast mode mb s with mb s burst scsi bit wide and fast mb s with mb s burst by your own data the although scsi is twice as fast as esdi is correct with a scsi control chip scsi can reach mb s which is inde faster than id of is all these scsi fact have been post to thi newsgroup in my mac ibm info sheet avail by ftp on sumex aim stanford edu in the info mac report as mac ibm compar version txt it should be but mai still be there part of thi problem is both mac and ibm pc ar inconsi about what scsi is which though it is well document that the quadra ha a scsi chip an appl salesperson said it us a fast scsi chip not at a mb s mb s burst it doe not scsi is mb s maximum synchron and quadra us ansynchron scsi which is slower it seem that mac and ibm see scsi interfac and think scsi when it mayb a scsi interfac driven in the machin by a scsi control chip in bit mode which is much faster then true scsi can go',\n",
       " 'i have win and download sever icon and bmp s but i can t figur out how to chang the wallpap or us the icon ani help would be appreci thanx brando',\n",
       " 'jap po cwru edu joseph a pellettier write i am look for ani inform about the sigma design doubl up board all i can figur out is that it is a hardwar compress board that work with autodoubl but i am not sure about thi also how much would on cost i ve had the board for over a year and it doe work with diskdoubl but not with autodoubl due to a licens problem with stac technolog the owner of the board s compress technolog i m write thi from memori i ve lost the refer pleas correct me if i m wrong us the board i ve had problem with file icon be lost but it s hard to sai whether it s the board s fault or someth els howev if i decompress the troubl file and recompress it without the board the icon usual reappear becaus of the abov mention licens problem the freewar expans util dd expand will not decompress a board compress file unless you have the board instal sinc stac ha it own product now it seem unlik that the hole in autodoubl diskdoubl relat to the board will be fix which is sad and make me veri reluct to bui stac s product sinc thei re be so stinki but hei that s competit']"
      ]
     },
     "execution_count": 7,
     "metadata": {},
     "output_type": "execute_result"
    }
   ],
   "source": [
    "newslist[0:10]"
   ]
  },
  {
   "cell_type": "code",
   "execution_count": 8,
   "metadata": {},
   "outputs": [
    {
     "data": {
      "text/html": [
       "<div>\n",
       "<style scoped>\n",
       "    .dataframe tbody tr th:only-of-type {\n",
       "        vertical-align: middle;\n",
       "    }\n",
       "\n",
       "    .dataframe tbody tr th {\n",
       "        vertical-align: top;\n",
       "    }\n",
       "\n",
       "    .dataframe thead th {\n",
       "        text-align: right;\n",
       "    }\n",
       "</style>\n",
       "<table border=\"1\" class=\"dataframe\">\n",
       "  <thead>\n",
       "    <tr style=\"text-align: right;\">\n",
       "      <th></th>\n",
       "      <th>News</th>\n",
       "      <th>target</th>\n",
       "      <th>newslist</th>\n",
       "    </tr>\n",
       "  </thead>\n",
       "  <tbody>\n",
       "    <tr>\n",
       "      <th>0</th>\n",
       "      <td>I was wondering if anyone out there could enli...</td>\n",
       "      <td>7</td>\n",
       "      <td>i wa wonder if anyon out there could enlighten...</td>\n",
       "    </tr>\n",
       "    <tr>\n",
       "      <th>1</th>\n",
       "      <td>A fair number of brave souls who upgraded thei...</td>\n",
       "      <td>4</td>\n",
       "      <td>a fair number of brave soul who upgrad their s...</td>\n",
       "    </tr>\n",
       "    <tr>\n",
       "      <th>2</th>\n",
       "      <td>well folks, my mac plus finally gave up the gh...</td>\n",
       "      <td>4</td>\n",
       "      <td>well folk my mac plu final gave up the ghost t...</td>\n",
       "    </tr>\n",
       "    <tr>\n",
       "      <th>3</th>\n",
       "      <td>Robert J.C. Kyanko (rob@rjck.UUCP) wrote:\\n&gt; a...</td>\n",
       "      <td>1</td>\n",
       "      <td>robert j c kyanko rob rjck uucp wrote abraxi i...</td>\n",
       "    </tr>\n",
       "    <tr>\n",
       "      <th>4</th>\n",
       "      <td>From article &lt;C5owCB.n3p@world.std.com&gt;, by to...</td>\n",
       "      <td>14</td>\n",
       "      <td>from articl cowcb np world std com by tombak w...</td>\n",
       "    </tr>\n",
       "    <tr>\n",
       "      <th>5</th>\n",
       "      <td>In article &lt;1r1eu1$4t@transfer.stratus.com&gt; cd...</td>\n",
       "      <td>16</td>\n",
       "      <td>in articl reu t transfer stratu com cdt sw str...</td>\n",
       "    </tr>\n",
       "    <tr>\n",
       "      <th>6</th>\n",
       "      <td>There were a few people who responded to my re...</td>\n",
       "      <td>13</td>\n",
       "      <td>there were a few peopl who respond to my reque...</td>\n",
       "    </tr>\n",
       "    <tr>\n",
       "      <th>7</th>\n",
       "      <td>DXB132@psuvm.psu.edu writes:\\n&gt;In article &lt;1ql...</td>\n",
       "      <td>3</td>\n",
       "      <td>dxb psuvm psu edu write in articl qlbrlinnrk d...</td>\n",
       "    </tr>\n",
       "    <tr>\n",
       "      <th>8</th>\n",
       "      <td>I have win 3.0 and downloaded several icons an...</td>\n",
       "      <td>2</td>\n",
       "      <td>i have win and download sever icon and bmp s b...</td>\n",
       "    </tr>\n",
       "    <tr>\n",
       "      <th>9</th>\n",
       "      <td>jap10@po.CWRU.Edu (Joseph A. Pellettiere) writ...</td>\n",
       "      <td>4</td>\n",
       "      <td>jap po cwru edu joseph a pellettier write i am...</td>\n",
       "    </tr>\n",
       "  </tbody>\n",
       "</table>\n",
       "</div>"
      ],
      "text/plain": [
       "                                                News  target  \\\n",
       "0  I was wondering if anyone out there could enli...       7   \n",
       "1  A fair number of brave souls who upgraded thei...       4   \n",
       "2  well folks, my mac plus finally gave up the gh...       4   \n",
       "3  Robert J.C. Kyanko (rob@rjck.UUCP) wrote:\\n> a...       1   \n",
       "4  From article <C5owCB.n3p@world.std.com>, by to...      14   \n",
       "5  In article <1r1eu1$4t@transfer.stratus.com> cd...      16   \n",
       "6  There were a few people who responded to my re...      13   \n",
       "7  DXB132@psuvm.psu.edu writes:\\n>In article <1ql...       3   \n",
       "8  I have win 3.0 and downloaded several icons an...       2   \n",
       "9  jap10@po.CWRU.Edu (Joseph A. Pellettiere) writ...       4   \n",
       "\n",
       "                                            newslist  \n",
       "0  i wa wonder if anyon out there could enlighten...  \n",
       "1  a fair number of brave soul who upgrad their s...  \n",
       "2  well folk my mac plu final gave up the ghost t...  \n",
       "3  robert j c kyanko rob rjck uucp wrote abraxi i...  \n",
       "4  from articl cowcb np world std com by tombak w...  \n",
       "5  in articl reu t transfer stratu com cdt sw str...  \n",
       "6  there were a few peopl who respond to my reque...  \n",
       "7  dxb psuvm psu edu write in articl qlbrlinnrk d...  \n",
       "8  i have win and download sever icon and bmp s b...  \n",
       "9  jap po cwru edu joseph a pellettier write i am...  "
      ]
     },
     "execution_count": 8,
     "metadata": {},
     "output_type": "execute_result"
    }
   ],
   "source": [
    "df2[\"newslist\"]=newslist\n",
    "df2[0:10]"
   ]
  },
  {
   "cell_type": "code",
   "execution_count": 9,
   "metadata": {},
   "outputs": [],
   "source": [
    "tfv=TfidfVectorizer(analyzer='word')"
   ]
  },
  {
   "cell_type": "code",
   "execution_count": 10,
   "metadata": {},
   "outputs": [],
   "source": [
    "fitnews=tfv.fit_transform(df2[\"newslist\"])"
   ]
  },
  {
   "cell_type": "code",
   "execution_count": 11,
   "metadata": {},
   "outputs": [
    {
     "data": {
      "text/plain": [
       "(8000, 56442)"
      ]
     },
     "execution_count": 11,
     "metadata": {},
     "output_type": "execute_result"
    }
   ],
   "source": [
    "fitnews.shape"
   ]
  },
  {
   "cell_type": "code",
   "execution_count": 12,
   "metadata": {},
   "outputs": [],
   "source": [
    "IPdata=fitnews.toarray()"
   ]
  },
  {
   "cell_type": "code",
   "execution_count": 13,
   "metadata": {},
   "outputs": [],
   "source": [
    "rtc=RandomForestClassifier(verbose=True)"
   ]
  },
  {
   "cell_type": "code",
   "execution_count": 14,
   "metadata": {},
   "outputs": [],
   "source": [
    "Xtrain,Xtest,Ytrain,Ytest= train_test_split(IPdata,df2[\"target\"],test_size=0.2,random_state=9)"
   ]
  },
  {
   "cell_type": "code",
   "execution_count": 15,
   "metadata": {},
   "outputs": [
    {
     "name": "stderr",
     "output_type": "stream",
     "text": [
      "/home/harsh/anaconda3/envs/ATworkshop/lib/python3.7/site-packages/sklearn/ensemble/forest.py:246: FutureWarning: The default value of n_estimators will change from 10 in version 0.20 to 100 in 0.22.\n",
      "  \"10 in version 0.20 to 100 in 0.22.\", FutureWarning)\n",
      "[Parallel(n_jobs=1)]: Using backend SequentialBackend with 1 concurrent workers.\n",
      "[Parallel(n_jobs=1)]: Done  10 out of  10 | elapsed:    7.1s finished\n"
     ]
    },
    {
     "data": {
      "text/plain": [
       "RandomForestClassifier(bootstrap=True, class_weight=None, criterion='gini',\n",
       "            max_depth=None, max_features='auto', max_leaf_nodes=None,\n",
       "            min_impurity_decrease=0.0, min_impurity_split=None,\n",
       "            min_samples_leaf=1, min_samples_split=2,\n",
       "            min_weight_fraction_leaf=0.0, n_estimators=10, n_jobs=None,\n",
       "            oob_score=False, random_state=None, verbose=True,\n",
       "            warm_start=False)"
      ]
     },
     "execution_count": 15,
     "metadata": {},
     "output_type": "execute_result"
    }
   ],
   "source": [
    "rtc.fit(Xtrain,Ytrain)"
   ]
  },
  {
   "cell_type": "code",
   "execution_count": 16,
   "metadata": {},
   "outputs": [
    {
     "name": "stderr",
     "output_type": "stream",
     "text": [
      "[Parallel(n_jobs=1)]: Using backend SequentialBackend with 1 concurrent workers.\n",
      "[Parallel(n_jobs=1)]: Done  10 out of  10 | elapsed:    0.3s finished\n"
     ]
    },
    {
     "data": {
      "text/plain": [
       "0.54375"
      ]
     },
     "execution_count": 16,
     "metadata": {},
     "output_type": "execute_result"
    }
   ],
   "source": [
    "accuracy_score(Ytest,rtc.predict(Xtest))"
   ]
  },
  {
   "cell_type": "code",
   "execution_count": null,
   "metadata": {},
   "outputs": [],
   "source": []
  }
 ],
 "metadata": {
  "kernelspec": {
   "display_name": "Python 3",
   "language": "python",
   "name": "python3"
  },
  "language_info": {
   "codemirror_mode": {
    "name": "ipython",
    "version": 3
   },
   "file_extension": ".py",
   "mimetype": "text/x-python",
   "name": "python",
   "nbconvert_exporter": "python",
   "pygments_lexer": "ipython3",
   "version": "3.7.3"
  }
 },
 "nbformat": 4,
 "nbformat_minor": 2
}
