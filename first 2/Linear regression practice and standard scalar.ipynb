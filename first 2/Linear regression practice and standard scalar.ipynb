{
 "cells": [
  {
   "cell_type": "code",
   "execution_count": 1,
   "metadata": {},
   "outputs": [],
   "source": [
    "from sklearn.linear_model import LinearRegression\n",
    "from sklearn.model_selection import train_test_split\n",
    "from matplotlib import pyplot as plt\n",
    "from sklearn.preprocessing import StandardScaler\n",
    "from sklearn.metrics import mean_squared_error\n",
    "import pandas as p\n",
    "import numpy as np"
   ]
  },
  {
   "cell_type": "code",
   "execution_count": 2,
   "metadata": {},
   "outputs": [
    {
     "data": {
      "text/html": [
       "<div>\n",
       "<style scoped>\n",
       "    .dataframe tbody tr th:only-of-type {\n",
       "        vertical-align: middle;\n",
       "    }\n",
       "\n",
       "    .dataframe tbody tr th {\n",
       "        vertical-align: top;\n",
       "    }\n",
       "\n",
       "    .dataframe thead th {\n",
       "        text-align: right;\n",
       "    }\n",
       "</style>\n",
       "<table border=\"1\" class=\"dataframe\">\n",
       "  <thead>\n",
       "    <tr style=\"text-align: right;\">\n",
       "      <th></th>\n",
       "      <th>YearsExperience</th>\n",
       "      <th>Salary</th>\n",
       "    </tr>\n",
       "  </thead>\n",
       "  <tbody>\n",
       "    <tr>\n",
       "      <th>0</th>\n",
       "      <td>1.1</td>\n",
       "      <td>39343.0</td>\n",
       "    </tr>\n",
       "    <tr>\n",
       "      <th>1</th>\n",
       "      <td>1.3</td>\n",
       "      <td>46205.0</td>\n",
       "    </tr>\n",
       "    <tr>\n",
       "      <th>2</th>\n",
       "      <td>1.5</td>\n",
       "      <td>37731.0</td>\n",
       "    </tr>\n",
       "    <tr>\n",
       "      <th>3</th>\n",
       "      <td>2.0</td>\n",
       "      <td>43525.0</td>\n",
       "    </tr>\n",
       "    <tr>\n",
       "      <th>4</th>\n",
       "      <td>2.2</td>\n",
       "      <td>39891.0</td>\n",
       "    </tr>\n",
       "    <tr>\n",
       "      <th>5</th>\n",
       "      <td>2.9</td>\n",
       "      <td>56642.0</td>\n",
       "    </tr>\n",
       "    <tr>\n",
       "      <th>6</th>\n",
       "      <td>3.0</td>\n",
       "      <td>60150.0</td>\n",
       "    </tr>\n",
       "    <tr>\n",
       "      <th>7</th>\n",
       "      <td>3.2</td>\n",
       "      <td>54445.0</td>\n",
       "    </tr>\n",
       "    <tr>\n",
       "      <th>8</th>\n",
       "      <td>3.2</td>\n",
       "      <td>64445.0</td>\n",
       "    </tr>\n",
       "    <tr>\n",
       "      <th>9</th>\n",
       "      <td>3.7</td>\n",
       "      <td>57189.0</td>\n",
       "    </tr>\n",
       "    <tr>\n",
       "      <th>10</th>\n",
       "      <td>3.9</td>\n",
       "      <td>63218.0</td>\n",
       "    </tr>\n",
       "    <tr>\n",
       "      <th>11</th>\n",
       "      <td>4.0</td>\n",
       "      <td>55794.0</td>\n",
       "    </tr>\n",
       "    <tr>\n",
       "      <th>12</th>\n",
       "      <td>4.0</td>\n",
       "      <td>56957.0</td>\n",
       "    </tr>\n",
       "    <tr>\n",
       "      <th>13</th>\n",
       "      <td>4.1</td>\n",
       "      <td>57081.0</td>\n",
       "    </tr>\n",
       "    <tr>\n",
       "      <th>14</th>\n",
       "      <td>4.5</td>\n",
       "      <td>61111.0</td>\n",
       "    </tr>\n",
       "    <tr>\n",
       "      <th>15</th>\n",
       "      <td>4.9</td>\n",
       "      <td>67938.0</td>\n",
       "    </tr>\n",
       "    <tr>\n",
       "      <th>16</th>\n",
       "      <td>5.1</td>\n",
       "      <td>66029.0</td>\n",
       "    </tr>\n",
       "    <tr>\n",
       "      <th>17</th>\n",
       "      <td>5.3</td>\n",
       "      <td>83088.0</td>\n",
       "    </tr>\n",
       "    <tr>\n",
       "      <th>18</th>\n",
       "      <td>5.9</td>\n",
       "      <td>81363.0</td>\n",
       "    </tr>\n",
       "    <tr>\n",
       "      <th>19</th>\n",
       "      <td>6.0</td>\n",
       "      <td>93940.0</td>\n",
       "    </tr>\n",
       "    <tr>\n",
       "      <th>20</th>\n",
       "      <td>6.8</td>\n",
       "      <td>91738.0</td>\n",
       "    </tr>\n",
       "    <tr>\n",
       "      <th>21</th>\n",
       "      <td>7.1</td>\n",
       "      <td>98273.0</td>\n",
       "    </tr>\n",
       "    <tr>\n",
       "      <th>22</th>\n",
       "      <td>7.9</td>\n",
       "      <td>101302.0</td>\n",
       "    </tr>\n",
       "    <tr>\n",
       "      <th>23</th>\n",
       "      <td>8.2</td>\n",
       "      <td>113812.0</td>\n",
       "    </tr>\n",
       "    <tr>\n",
       "      <th>24</th>\n",
       "      <td>8.7</td>\n",
       "      <td>109431.0</td>\n",
       "    </tr>\n",
       "    <tr>\n",
       "      <th>25</th>\n",
       "      <td>9.0</td>\n",
       "      <td>105582.0</td>\n",
       "    </tr>\n",
       "    <tr>\n",
       "      <th>26</th>\n",
       "      <td>9.5</td>\n",
       "      <td>116969.0</td>\n",
       "    </tr>\n",
       "    <tr>\n",
       "      <th>27</th>\n",
       "      <td>9.6</td>\n",
       "      <td>112635.0</td>\n",
       "    </tr>\n",
       "    <tr>\n",
       "      <th>28</th>\n",
       "      <td>10.3</td>\n",
       "      <td>122391.0</td>\n",
       "    </tr>\n",
       "    <tr>\n",
       "      <th>29</th>\n",
       "      <td>10.5</td>\n",
       "      <td>121872.0</td>\n",
       "    </tr>\n",
       "  </tbody>\n",
       "</table>\n",
       "</div>"
      ],
      "text/plain": [
       "    YearsExperience    Salary\n",
       "0               1.1   39343.0\n",
       "1               1.3   46205.0\n",
       "2               1.5   37731.0\n",
       "3               2.0   43525.0\n",
       "4               2.2   39891.0\n",
       "5               2.9   56642.0\n",
       "6               3.0   60150.0\n",
       "7               3.2   54445.0\n",
       "8               3.2   64445.0\n",
       "9               3.7   57189.0\n",
       "10              3.9   63218.0\n",
       "11              4.0   55794.0\n",
       "12              4.0   56957.0\n",
       "13              4.1   57081.0\n",
       "14              4.5   61111.0\n",
       "15              4.9   67938.0\n",
       "16              5.1   66029.0\n",
       "17              5.3   83088.0\n",
       "18              5.9   81363.0\n",
       "19              6.0   93940.0\n",
       "20              6.8   91738.0\n",
       "21              7.1   98273.0\n",
       "22              7.9  101302.0\n",
       "23              8.2  113812.0\n",
       "24              8.7  109431.0\n",
       "25              9.0  105582.0\n",
       "26              9.5  116969.0\n",
       "27              9.6  112635.0\n",
       "28             10.3  122391.0\n",
       "29             10.5  121872.0"
      ]
     },
     "execution_count": 2,
     "metadata": {},
     "output_type": "execute_result"
    }
   ],
   "source": [
    "dataframe = p.read_csv(\"salary_exp.csv\")\n",
    "dataframe"
   ]
  },
  {
   "cell_type": "code",
   "execution_count": 3,
   "metadata": {},
   "outputs": [
    {
     "data": {
      "text/html": [
       "<div>\n",
       "<style scoped>\n",
       "    .dataframe tbody tr th:only-of-type {\n",
       "        vertical-align: middle;\n",
       "    }\n",
       "\n",
       "    .dataframe tbody tr th {\n",
       "        vertical-align: top;\n",
       "    }\n",
       "\n",
       "    .dataframe thead th {\n",
       "        text-align: right;\n",
       "    }\n",
       "</style>\n",
       "<table border=\"1\" class=\"dataframe\">\n",
       "  <thead>\n",
       "    <tr style=\"text-align: right;\">\n",
       "      <th></th>\n",
       "      <th>YearsExperience</th>\n",
       "      <th>Salary</th>\n",
       "    </tr>\n",
       "  </thead>\n",
       "  <tbody>\n",
       "    <tr>\n",
       "      <th>count</th>\n",
       "      <td>30.000000</td>\n",
       "      <td>30.000000</td>\n",
       "    </tr>\n",
       "    <tr>\n",
       "      <th>mean</th>\n",
       "      <td>5.313333</td>\n",
       "      <td>76003.000000</td>\n",
       "    </tr>\n",
       "    <tr>\n",
       "      <th>std</th>\n",
       "      <td>2.837888</td>\n",
       "      <td>27414.429785</td>\n",
       "    </tr>\n",
       "    <tr>\n",
       "      <th>min</th>\n",
       "      <td>1.100000</td>\n",
       "      <td>37731.000000</td>\n",
       "    </tr>\n",
       "    <tr>\n",
       "      <th>25%</th>\n",
       "      <td>3.200000</td>\n",
       "      <td>56720.750000</td>\n",
       "    </tr>\n",
       "    <tr>\n",
       "      <th>50%</th>\n",
       "      <td>4.700000</td>\n",
       "      <td>65237.000000</td>\n",
       "    </tr>\n",
       "    <tr>\n",
       "      <th>75%</th>\n",
       "      <td>7.700000</td>\n",
       "      <td>100544.750000</td>\n",
       "    </tr>\n",
       "    <tr>\n",
       "      <th>max</th>\n",
       "      <td>10.500000</td>\n",
       "      <td>122391.000000</td>\n",
       "    </tr>\n",
       "  </tbody>\n",
       "</table>\n",
       "</div>"
      ],
      "text/plain": [
       "       YearsExperience         Salary\n",
       "count        30.000000      30.000000\n",
       "mean          5.313333   76003.000000\n",
       "std           2.837888   27414.429785\n",
       "min           1.100000   37731.000000\n",
       "25%           3.200000   56720.750000\n",
       "50%           4.700000   65237.000000\n",
       "75%           7.700000  100544.750000\n",
       "max          10.500000  122391.000000"
      ]
     },
     "execution_count": 3,
     "metadata": {},
     "output_type": "execute_result"
    }
   ],
   "source": [
    "dataframe.describe()"
   ]
  },
  {
   "cell_type": "code",
   "execution_count": 4,
   "metadata": {},
   "outputs": [
    {
     "data": {
      "text/plain": [
       "<matplotlib.collections.PathCollection at 0x7f2406cdf908>"
      ]
     },
     "execution_count": 4,
     "metadata": {},
     "output_type": "execute_result"
    },
    {
     "data": {
      "image/png": "[encoded data removed]",
      "text/plain": [
       "<Figure size 432x288 with 1 Axes>"
      ]
     },
     "metadata": {
      "needs_background": "light"
     },
     "output_type": "display_data"
    }
   ],
   "source": [
    "plt.scatter(dataframe[\"YearsExperience\"],dataframe[\"Salary\"])"
   ]
  },
  {
   "cell_type": "code",
   "execution_count": 5,
   "metadata": {},
   "outputs": [],
   "source": [
    "x= dataframe[\"YearsExperience\"]\n",
    "y= dataframe[\"Salary\"]\n",
    "x= x.values.reshape(-1,1)\n",
    "y= y.values.reshape(-1,1)"
   ]
  },
  {
   "cell_type": "code",
   "execution_count": 6,
   "metadata": {},
   "outputs": [
    {
     "data": {
      "text/plain": [
       "LinearRegression(copy_X=True, fit_intercept=True, n_jobs=None, normalize=False)"
      ]
     },
     "execution_count": 6,
     "metadata": {},
     "output_type": "execute_result"
    }
   ],
   "source": [
    "lr=LinearRegression()\n",
    "lr.fit(x,y)"
   ]
  },
  {
   "cell_type": "code",
   "execution_count": 7,
   "metadata": {},
   "outputs": [
    {
     "data": {
      "text/plain": [
       "array([[9449.96232146]])"
      ]
     },
     "execution_count": 7,
     "metadata": {},
     "output_type": "execute_result"
    }
   ],
   "source": [
    "lr.coef_"
   ]
  },
  {
   "cell_type": "code",
   "execution_count": 8,
   "metadata": {},
   "outputs": [
    {
     "data": {
      "text/plain": [
       "<matplotlib.legend.Legend at 0x7f2406c479b0>"
      ]
     },
     "execution_count": 8,
     "metadata": {},
     "output_type": "execute_result"
    },
    {
     "data": {
      "image/png": "[encoded data removed]",
      "text/plain": [
       "<Figure size 432x288 with 1 Axes>"
      ]
     },
     "metadata": {
      "needs_background": "light"
     },
     "output_type": "display_data"
    }
   ],
   "source": [
    "plt.scatter(x,y,color=\"blue\",label=\"Values\")\n",
    "plt.plot(x,lr.predict(x),color=\"red\",label=\"Regression\")\n",
    "plt.legend(loc=\"best\")"
   ]
  },
  {
   "cell_type": "code",
   "execution_count": 9,
   "metadata": {},
   "outputs": [],
   "source": [
    "Xtrain,Xtest,Ytrain,Ytest = train_test_split(x,y, test_size=0.2 , random_state=9)"
   ]
  },
  {
   "cell_type": "code",
   "execution_count": 10,
   "metadata": {},
   "outputs": [
    {
     "data": {
      "text/plain": [
       "<matplotlib.collections.PathCollection at 0x7f2406b7dc18>"
      ]
     },
     "execution_count": 10,
     "metadata": {},
     "output_type": "execute_result"
    },
    {
     "data": {
      "image/png": "[encoded data removed]",
      "text/plain": [
       "<Figure size 432x288 with 1 Axes>"
      ]
     },
     "metadata": {
      "needs_background": "light"
     },
     "output_type": "display_data"
    }
   ],
   "source": [
    "lr1=LinearRegression()\n",
    "lr1.fit(Xtrain,Ytrain)\n",
    "plt.scatter(Xtrain,Ytrain,color=\"blue\",label=\"Values\")\n",
    "plt.scatter(Xtest,Ytest,color=\"red\",label=\"Values\")"
   ]
  },
  {
   "cell_type": "code",
   "execution_count": 11,
   "metadata": {},
   "outputs": [
    {
     "data": {
      "text/plain": [
       "<matplotlib.legend.Legend at 0x7f2406aeb4e0>"
      ]
     },
     "execution_count": 11,
     "metadata": {},
     "output_type": "execute_result"
    },
    {
     "data": {
      "image/png": "[encoded data removed]",
      "text/plain": [
       "<Figure size 432x288 with 1 Axes>"
      ]
     },
     "metadata": {
      "needs_background": "light"
     },
     "output_type": "display_data"
    }
   ],
   "source": [
    "plt.scatter(x,y,color=\"blue\",label=\"Values\")\n",
    "plt.plot(x,lr.predict(x),color=\"red\",label=\"Regression\")\n",
    "plt.plot(x,lr1.predict(x),color=\"green\",label=\"SplitRegression\")\n",
    "plt.legend(loc=\"best\")"
   ]
  },
  {
   "cell_type": "code",
   "execution_count": 12,
   "metadata": {},
   "outputs": [
    {
     "data": {
      "text/plain": [
       "(31416452.1598077, 30688949.97217402)"
      ]
     },
     "execution_count": 12,
     "metadata": {},
     "output_type": "execute_result"
    }
   ],
   "source": [
    "mean_squared_error(Ytrain,lr.predict(Xtrain)),mean_squared_error(Ytest,lr.predict(Xtest))"
   ]
  },
  {
   "cell_type": "code",
   "execution_count": 13,
   "metadata": {},
   "outputs": [],
   "source": [
    "sc_x= StandardScaler()\n",
    "sc_y= StandardScaler()"
   ]
  },
  {
   "cell_type": "code",
   "execution_count": 14,
   "metadata": {},
   "outputs": [],
   "source": [
    "Xtrain=sc_x.fit_transform(Xtrain)"
   ]
  },
  {
   "cell_type": "code",
   "execution_count": 15,
   "metadata": {},
   "outputs": [],
   "source": [
    "Ytrain=sc_y.fit_transform(Ytrain)"
   ]
  },
  {
   "cell_type": "code",
   "execution_count": 16,
   "metadata": {},
   "outputs": [],
   "source": [
    "Xtest=sc_x.transform(Xtest)"
   ]
  },
  {
   "cell_type": "code",
   "execution_count": 17,
   "metadata": {},
   "outputs": [],
   "source": [
    "Ytest=sc_y.transform(Ytest)"
   ]
  },
  {
   "cell_type": "code",
   "execution_count": 18,
   "metadata": {},
   "outputs": [],
   "source": [
    "lr3=LinearRegression()"
   ]
  },
  {
   "cell_type": "code",
   "execution_count": 19,
   "metadata": {},
   "outputs": [
    {
     "data": {
      "text/plain": [
       "LinearRegression(copy_X=True, fit_intercept=True, n_jobs=None, normalize=False)"
      ]
     },
     "execution_count": 19,
     "metadata": {},
     "output_type": "execute_result"
    }
   ],
   "source": [
    "lr3.fit(Xtrain,Ytrain)"
   ]
  },
  {
   "cell_type": "code",
   "execution_count": 20,
   "metadata": {},
   "outputs": [
    {
     "data": {
      "text/plain": [
       "array([[0.97735518]])"
      ]
     },
     "execution_count": 20,
     "metadata": {},
     "output_type": "execute_result"
    },
    {
     "data": {
      "image/png": "[encoded data removed]",
      "text/plain": [
       "<Figure size 432x288 with 1 Axes>"
      ]
     },
     "metadata": {
      "needs_background": "light"
     },
     "output_type": "display_data"
    }
   ],
   "source": [
    "plt.plot(Xtest,lr3.predict(Xtest),color=\"yellow\",label=\"StandardScaled\")\n",
    "plt.legend(loc=\"best\")\n",
    "lr3.coef_"
   ]
  },
  {
   "cell_type": "code",
   "execution_count": 21,
   "metadata": {},
   "outputs": [
    {
     "data": {
      "text/plain": [
       "(0.04477684842975969, 0.05371176871230309)"
      ]
     },
     "execution_count": 21,
     "metadata": {},
     "output_type": "execute_result"
    }
   ],
   "source": [
    "mean_squared_error(Ytrain,lr3.predict(Xtrain)),mean_squared_error(Ytest,lr3.predict(Xtest))"
   ]
  },
  {
   "cell_type": "code",
   "execution_count": 22,
   "metadata": {},
   "outputs": [
    {
     "name": "stdout",
     "output_type": "stream",
     "text": [
      "2.9374650859873935e-16 1.0\n",
      "-1.5728159515523052e-16 1.0\n"
     ]
    },
    {
     "data": {
      "image/png": "[encoded data removed]",
      "text/plain": [
       "<Figure size 432x288 with 1 Axes>"
      ]
     },
     "metadata": {
      "needs_background": "light"
     },
     "output_type": "display_data"
    }
   ],
   "source": [
    "plt.hist(Xtrain)\n",
    "print(np.mean(Xtrain),np.std(Xtrain))\n",
    "print(np.mean(Ytrain),np.std(Ytrain))"
   ]
  },
  {
   "cell_type": "code",
   "execution_count": 23,
   "metadata": {},
   "outputs": [
    {
     "data": {
      "text/plain": [
       "<matplotlib.legend.Legend at 0x7f2406a33d68>"
      ]
     },
     "execution_count": 23,
     "metadata": {},
     "output_type": "execute_result"
    },
    {
     "data": {
      "image/png": "[encoded data removed]",
      "text/plain": [
       "<Figure size 432x288 with 1 Axes>"
      ]
     },
     "metadata": {
      "needs_background": "light"
     },
     "output_type": "display_data"
    }
   ],
   "source": [
    "Ytest=sc_y.inverse_transform(Ytest)\n",
    "Xtest=sc_x.inverse_transform(Xtest)\n",
    "plt.plot(x,lr3.predict(x),color=\"yellow\",label=\"StandardScaled\")\n",
    "plt.legend(loc=\"best\")"
   ]
  },
  {
   "cell_type": "code",
   "execution_count": 24,
   "metadata": {},
   "outputs": [
    {
     "data": {
      "text/plain": [
       "array([[82368.14555445]])"
      ]
     },
     "execution_count": 24,
     "metadata": {},
     "output_type": "execute_result"
    }
   ],
   "source": [
    "exp = 6\n",
    "\n",
    "sample = lr3.predict(sc_x.transform([[exp]]))\n",
    "sample = sc_y.inverse_transform(sample)\n",
    "sample"
   ]
  },
  {
   "cell_type": "code",
   "execution_count": 25,
   "metadata": {},
   "outputs": [],
   "source": [
    "c=np.array(x)\n",
    "d=np.array(y)\n",
    "ct=c.transpose()"
   ]
  },
  {
   "cell_type": "code",
   "execution_count": 30,
   "metadata": {},
   "outputs": [
    {
     "data": {
      "text/plain": [
       "array([[  1.21,   1.43,   1.65,   2.2 ,   2.42,   3.19,   3.3 ,   3.52,\n",
       "          3.52,   4.07,   4.29,   4.4 ,   4.4 ,   4.51,   4.95,   5.39,\n",
       "          5.61,   5.83,   6.49,   6.6 ,   7.48,   7.81,   8.69,   9.02,\n",
       "          9.57,   9.9 ,  10.45,  10.56,  11.33,  11.55],\n",
       "       [  1.43,   1.69,   1.95,   2.6 ,   2.86,   3.77,   3.9 ,   4.16,\n",
       "          4.16,   4.81,   5.07,   5.2 ,   5.2 ,   5.33,   5.85,   6.37,\n",
       "          6.63,   6.89,   7.67,   7.8 ,   8.84,   9.23,  10.27,  10.66,\n",
       "         11.31,  11.7 ,  12.35,  12.48,  13.39,  13.65],\n",
       "       [  1.65,   1.95,   2.25,   3.  ,   3.3 ,   4.35,   4.5 ,   4.8 ,\n",
       "          4.8 ,   5.55,   5.85,   6.  ,   6.  ,   6.15,   6.75,   7.35,\n",
       "          7.65,   7.95,   8.85,   9.  ,  10.2 ,  10.65,  11.85,  12.3 ,\n",
       "         13.05,  13.5 ,  14.25,  14.4 ,  15.45,  15.75],\n",
       "       [  2.2 ,   2.6 ,   3.  ,   4.  ,   4.4 ,   5.8 ,   6.  ,   6.4 ,\n",
       "          6.4 ,   7.4 ,   7.8 ,   8.  ,   8.  ,   8.2 ,   9.  ,   9.8 ,\n",
       "         10.2 ,  10.6 ,  11.8 ,  12.  ,  13.6 ,  14.2 ,  15.8 ,  16.4 ,\n",
       "         17.4 ,  18.  ,  19.  ,  19.2 ,  20.6 ,  21.  ],\n",
       "       [  2.42,   2.86,   3.3 ,   4.4 ,   4.84,   6.38,   6.6 ,   7.04,\n",
       "          7.04,   8.14,   8.58,   8.8 ,   8.8 ,   9.02,   9.9 ,  10.78,\n",
       "         11.22,  11.66,  12.98,  13.2 ,  14.96,  15.62,  17.38,  18.04,\n",
       "         19.14,  19.8 ,  20.9 ,  21.12,  22.66,  23.1 ],\n",
       "       [  3.19,   3.77,   4.35,   5.8 ,   6.38,   8.41,   8.7 ,   9.28,\n",
       "          9.28,  10.73,  11.31,  11.6 ,  11.6 ,  11.89,  13.05,  14.21,\n",
       "         14.79,  15.37,  17.11,  17.4 ,  19.72,  20.59,  22.91,  23.78,\n",
       "         25.23,  26.1 ,  27.55,  27.84,  29.87,  30.45],\n",
       "       [  3.3 ,   3.9 ,   4.5 ,   6.  ,   6.6 ,   8.7 ,   9.  ,   9.6 ,\n",
       "          9.6 ,  11.1 ,  11.7 ,  12.  ,  12.  ,  12.3 ,  13.5 ,  14.7 ,\n",
       "         15.3 ,  15.9 ,  17.7 ,  18.  ,  20.4 ,  21.3 ,  23.7 ,  24.6 ,\n",
       "         26.1 ,  27.  ,  28.5 ,  28.8 ,  30.9 ,  31.5 ],\n",
       "       [  3.52,   4.16,   4.8 ,   6.4 ,   7.04,   9.28,   9.6 ,  10.24,\n",
       "         10.24,  11.84,  12.48,  12.8 ,  12.8 ,  13.12,  14.4 ,  15.68,\n",
       "         16.32,  16.96,  18.88,  19.2 ,  21.76,  22.72,  25.28,  26.24,\n",
       "         27.84,  28.8 ,  30.4 ,  30.72,  32.96,  33.6 ],\n",
       "       [  3.52,   4.16,   4.8 ,   6.4 ,   7.04,   9.28,   9.6 ,  10.24,\n",
       "         10.24,  11.84,  12.48,  12.8 ,  12.8 ,  13.12,  14.4 ,  15.68,\n",
       "         16.32,  16.96,  18.88,  19.2 ,  21.76,  22.72,  25.28,  26.24,\n",
       "         27.84,  28.8 ,  30.4 ,  30.72,  32.96,  33.6 ],\n",
       "       [  4.07,   4.81,   5.55,   7.4 ,   8.14,  10.73,  11.1 ,  11.84,\n",
       "         11.84,  13.69,  14.43,  14.8 ,  14.8 ,  15.17,  16.65,  18.13,\n",
       "         18.87,  19.61,  21.83,  22.2 ,  25.16,  26.27,  29.23,  30.34,\n",
       "         32.19,  33.3 ,  35.15,  35.52,  38.11,  38.85],\n",
       "       [  4.29,   5.07,   5.85,   7.8 ,   8.58,  11.31,  11.7 ,  12.48,\n",
       "         12.48,  14.43,  15.21,  15.6 ,  15.6 ,  15.99,  17.55,  19.11,\n",
       "         19.89,  20.67,  23.01,  23.4 ,  26.52,  27.69,  30.81,  31.98,\n",
       "         33.93,  35.1 ,  37.05,  37.44,  40.17,  40.95],\n",
       "       [  4.4 ,   5.2 ,   6.  ,   8.  ,   8.8 ,  11.6 ,  12.  ,  12.8 ,\n",
       "         12.8 ,  14.8 ,  15.6 ,  16.  ,  16.  ,  16.4 ,  18.  ,  19.6 ,\n",
       "         20.4 ,  21.2 ,  23.6 ,  24.  ,  27.2 ,  28.4 ,  31.6 ,  32.8 ,\n",
       "         34.8 ,  36.  ,  38.  ,  38.4 ,  41.2 ,  42.  ],\n",
       "       [  4.4 ,   5.2 ,   6.  ,   8.  ,   8.8 ,  11.6 ,  12.  ,  12.8 ,\n",
       "         12.8 ,  14.8 ,  15.6 ,  16.  ,  16.  ,  16.4 ,  18.  ,  19.6 ,\n",
       "         20.4 ,  21.2 ,  23.6 ,  24.  ,  27.2 ,  28.4 ,  31.6 ,  32.8 ,\n",
       "         34.8 ,  36.  ,  38.  ,  38.4 ,  41.2 ,  42.  ],\n",
       "       [  4.51,   5.33,   6.15,   8.2 ,   9.02,  11.89,  12.3 ,  13.12,\n",
       "         13.12,  15.17,  15.99,  16.4 ,  16.4 ,  16.81,  18.45,  20.09,\n",
       "         20.91,  21.73,  24.19,  24.6 ,  27.88,  29.11,  32.39,  33.62,\n",
       "         35.67,  36.9 ,  38.95,  39.36,  42.23,  43.05],\n",
       "       [  4.95,   5.85,   6.75,   9.  ,   9.9 ,  13.05,  13.5 ,  14.4 ,\n",
       "         14.4 ,  16.65,  17.55,  18.  ,  18.  ,  18.45,  20.25,  22.05,\n",
       "         22.95,  23.85,  26.55,  27.  ,  30.6 ,  31.95,  35.55,  36.9 ,\n",
       "         39.15,  40.5 ,  42.75,  43.2 ,  46.35,  47.25],\n",
       "       [  5.39,   6.37,   7.35,   9.8 ,  10.78,  14.21,  14.7 ,  15.68,\n",
       "         15.68,  18.13,  19.11,  19.6 ,  19.6 ,  20.09,  22.05,  24.01,\n",
       "         24.99,  25.97,  28.91,  29.4 ,  33.32,  34.79,  38.71,  40.18,\n",
       "         42.63,  44.1 ,  46.55,  47.04,  50.47,  51.45],\n",
       "       [  5.61,   6.63,   7.65,  10.2 ,  11.22,  14.79,  15.3 ,  16.32,\n",
       "         16.32,  18.87,  19.89,  20.4 ,  20.4 ,  20.91,  22.95,  24.99,\n",
       "         26.01,  27.03,  30.09,  30.6 ,  34.68,  36.21,  40.29,  41.82,\n",
       "         44.37,  45.9 ,  48.45,  48.96,  52.53,  53.55],\n",
       "       [  5.83,   6.89,   7.95,  10.6 ,  11.66,  15.37,  15.9 ,  16.96,\n",
       "         16.96,  19.61,  20.67,  21.2 ,  21.2 ,  21.73,  23.85,  25.97,\n",
       "         27.03,  28.09,  31.27,  31.8 ,  36.04,  37.63,  41.87,  43.46,\n",
       "         46.11,  47.7 ,  50.35,  50.88,  54.59,  55.65],\n",
       "       [  6.49,   7.67,   8.85,  11.8 ,  12.98,  17.11,  17.7 ,  18.88,\n",
       "         18.88,  21.83,  23.01,  23.6 ,  23.6 ,  24.19,  26.55,  28.91,\n",
       "         30.09,  31.27,  34.81,  35.4 ,  40.12,  41.89,  46.61,  48.38,\n",
       "         51.33,  53.1 ,  56.05,  56.64,  60.77,  61.95],\n",
       "       [  6.6 ,   7.8 ,   9.  ,  12.  ,  13.2 ,  17.4 ,  18.  ,  19.2 ,\n",
       "         19.2 ,  22.2 ,  23.4 ,  24.  ,  24.  ,  24.6 ,  27.  ,  29.4 ,\n",
       "         30.6 ,  31.8 ,  35.4 ,  36.  ,  40.8 ,  42.6 ,  47.4 ,  49.2 ,\n",
       "         52.2 ,  54.  ,  57.  ,  57.6 ,  61.8 ,  63.  ],\n",
       "       [  7.48,   8.84,  10.2 ,  13.6 ,  14.96,  19.72,  20.4 ,  21.76,\n",
       "         21.76,  25.16,  26.52,  27.2 ,  27.2 ,  27.88,  30.6 ,  33.32,\n",
       "         34.68,  36.04,  40.12,  40.8 ,  46.24,  48.28,  53.72,  55.76,\n",
       "         59.16,  61.2 ,  64.6 ,  65.28,  70.04,  71.4 ],\n",
       "       [  7.81,   9.23,  10.65,  14.2 ,  15.62,  20.59,  21.3 ,  22.72,\n",
       "         22.72,  26.27,  27.69,  28.4 ,  28.4 ,  29.11,  31.95,  34.79,\n",
       "         36.21,  37.63,  41.89,  42.6 ,  48.28,  50.41,  56.09,  58.22,\n",
       "         61.77,  63.9 ,  67.45,  68.16,  73.13,  74.55],\n",
       "       [  8.69,  10.27,  11.85,  15.8 ,  17.38,  22.91,  23.7 ,  25.28,\n",
       "         25.28,  29.23,  30.81,  31.6 ,  31.6 ,  32.39,  35.55,  38.71,\n",
       "         40.29,  41.87,  46.61,  47.4 ,  53.72,  56.09,  62.41,  64.78,\n",
       "         68.73,  71.1 ,  75.05,  75.84,  81.37,  82.95],\n",
       "       [  9.02,  10.66,  12.3 ,  16.4 ,  18.04,  23.78,  24.6 ,  26.24,\n",
       "         26.24,  30.34,  31.98,  32.8 ,  32.8 ,  33.62,  36.9 ,  40.18,\n",
       "         41.82,  43.46,  48.38,  49.2 ,  55.76,  58.22,  64.78,  67.24,\n",
       "         71.34,  73.8 ,  77.9 ,  78.72,  84.46,  86.1 ],\n",
       "       [  9.57,  11.31,  13.05,  17.4 ,  19.14,  25.23,  26.1 ,  27.84,\n",
       "         27.84,  32.19,  33.93,  34.8 ,  34.8 ,  35.67,  39.15,  42.63,\n",
       "         44.37,  46.11,  51.33,  52.2 ,  59.16,  61.77,  68.73,  71.34,\n",
       "         75.69,  78.3 ,  82.65,  83.52,  89.61,  91.35],\n",
       "       [  9.9 ,  11.7 ,  13.5 ,  18.  ,  19.8 ,  26.1 ,  27.  ,  28.8 ,\n",
       "         28.8 ,  33.3 ,  35.1 ,  36.  ,  36.  ,  36.9 ,  40.5 ,  44.1 ,\n",
       "         45.9 ,  47.7 ,  53.1 ,  54.  ,  61.2 ,  63.9 ,  71.1 ,  73.8 ,\n",
       "         78.3 ,  81.  ,  85.5 ,  86.4 ,  92.7 ,  94.5 ],\n",
       "       [ 10.45,  12.35,  14.25,  19.  ,  20.9 ,  27.55,  28.5 ,  30.4 ,\n",
       "         30.4 ,  35.15,  37.05,  38.  ,  38.  ,  38.95,  42.75,  46.55,\n",
       "         48.45,  50.35,  56.05,  57.  ,  64.6 ,  67.45,  75.05,  77.9 ,\n",
       "         82.65,  85.5 ,  90.25,  91.2 ,  97.85,  99.75],\n",
       "       [ 10.56,  12.48,  14.4 ,  19.2 ,  21.12,  27.84,  28.8 ,  30.72,\n",
       "         30.72,  35.52,  37.44,  38.4 ,  38.4 ,  39.36,  43.2 ,  47.04,\n",
       "         48.96,  50.88,  56.64,  57.6 ,  65.28,  68.16,  75.84,  78.72,\n",
       "         83.52,  86.4 ,  91.2 ,  92.16,  98.88, 100.8 ],\n",
       "       [ 11.33,  13.39,  15.45,  20.6 ,  22.66,  29.87,  30.9 ,  32.96,\n",
       "         32.96,  38.11,  40.17,  41.2 ,  41.2 ,  42.23,  46.35,  50.47,\n",
       "         52.53,  54.59,  60.77,  61.8 ,  70.04,  73.13,  81.37,  84.46,\n",
       "         89.61,  92.7 ,  97.85,  98.88, 106.09, 108.15],\n",
       "       [ 11.55,  13.65,  15.75,  21.  ,  23.1 ,  30.45,  31.5 ,  33.6 ,\n",
       "         33.6 ,  38.85,  40.95,  42.  ,  42.  ,  43.05,  47.25,  51.45,\n",
       "         53.55,  55.65,  61.95,  63.  ,  71.4 ,  74.55,  82.95,  86.1 ,\n",
       "         91.35,  94.5 ,  99.75, 100.8 , 108.15, 110.25]])"
      ]
     },
     "execution_count": 30,
     "metadata": {},
     "output_type": "execute_result"
    }
   ],
   "source": [
    "ans1= np.dot(c,ct)\n",
    "ans1"
   ]
  },
  {
   "cell_type": "code",
   "execution_count": 32,
   "metadata": {},
   "outputs": [],
   "source": [
    "ans1=ans1**-1"
   ]
  },
  {
   "cell_type": "code",
   "execution_count": 33,
   "metadata": {},
   "outputs": [],
   "source": [
    "ans2=np.dot(d,ct)"
   ]
  },
  {
   "cell_type": "code",
   "execution_count": 36,
   "metadata": {},
   "outputs": [],
   "source": [
    "ans=np.dot(ans1,ans2)"
   ]
  },
  {
   "cell_type": "code",
   "execution_count": 38,
   "metadata": {},
   "outputs": [
    {
     "name": "stdout",
     "output_type": "stream",
     "text": [
      "[[ 498263.56474201  588856.94014964  679450.31555728  905933.75407637\n",
      "   996527.12948401 1313603.94341074 1358900.63111456 1449494.0065222\n",
      "  1449494.0065222  1675977.44504129 1766570.82044893 1811867.50815275\n",
      "  1811867.50815275 1857164.19585657 2038350.94667184 2219537.69748712\n",
      "  2310131.07289475 2400724.44830239 2672504.5745253  2717801.26222912\n",
      "  3080174.76385967 3216064.82697113 3578438.32860168 3714328.39171313\n",
      "  3940811.83023223 4076701.89334368 4303185.33186278 4348482.0195666\n",
      "  4665558.83349333 4756152.20890097]\n",
      " [ 421607.63170477  498263.56474201  574919.49777924  766559.33037232\n",
      "   843215.26340955 1111511.02903986 1149838.99555848 1226494.92859571\n",
      "  1226494.92859571 1418134.76118879 1494790.69422602 1533118.66074463\n",
      "  1533118.66074463 1571446.62726325 1724758.49333771 1878070.35941218\n",
      "  1954726.29244941 2031382.22548664 2261350.02459833 2299677.99111695\n",
      "  2606301.72326588 2721285.62282172 3027909.35497065 3142893.2545265\n",
      "  3334533.08711958 3449516.98667543 3641156.81926851 3679484.78578712\n",
      "  3947780.55141743 4024436.48445466]\n",
      " [ 365393.2808108   431828.42277641  498263.56474201  664351.41965601\n",
      "   730786.56162161  963309.55850121  996527.12948401 1062962.27144961\n",
      "  1062962.27144961 1229050.12636361 1295485.26832922 1328702.83931202\n",
      "  1328702.83931202 1361920.41029482 1494790.69422602 1627660.97815722\n",
      "  1694096.12012282 1760531.26208842 1959836.68798522 1993054.25896802\n",
      "  2258794.82683043 2358447.53977883 2624188.10764123 2723840.82058963\n",
      "  2889928.67550363 2989581.38845203 3155669.24336604 3188886.81434884\n",
      "  3421409.81122844 3487844.95319404]\n",
      " [ 274044.9606081   323871.3170823   373697.6735565   498263.56474201\n",
      "   548089.92121621  722482.16887591  747395.34711301  797221.70358721\n",
      "   797221.70358721  921787.59477271  971613.95124691  996527.12948401\n",
      "   996527.12948401 1021440.30772111 1121093.02066951 1220745.73361791\n",
      "  1270572.09009212 1320398.44656632 1469877.51598892 1494790.69422602\n",
      "  1694096.12012282 1768835.65483412 1968141.08073092 2042880.61544222\n",
      "  2167446.50662773 2242186.04133903 2366751.93252453 2391665.11076163\n",
      "  2566057.35842133 2615883.71489553]\n",
      " [ 249131.782371    294428.47007482  339725.15777864  452966.87703819\n",
      "   498263.56474201  656801.97170537  679450.31555728  724747.0032611\n",
      "   724747.0032611   837988.72252065  883285.41022447  905933.75407637\n",
      "   905933.75407637  928582.09792828 1019175.47333592 1109768.84874356\n",
      "  1155065.53644738 1200362.2241512  1336252.28726265 1358900.63111456\n",
      "  1540087.38192984 1608032.41348556 1789219.16430084 1857164.19585657\n",
      "  1970405.91511611 2038350.94667184 2151592.66593139 2174241.0097833\n",
      "  2332779.41674666 2378076.10445048]\n",
      " [ 188996.52455731  223359.52902228  257722.53348724  343630.04464966\n",
      "   377993.04911463  498263.56474201  515445.06697449  549808.07143946\n",
      "   549808.07143946  635715.58260187  670078.58706684  687260.08929932\n",
      "   687260.08929932  704441.5915318   773167.60046173  841893.60939167\n",
      "   876256.61385663  910619.6183216  1013708.6317165  1030890.13394898\n",
      "  1168342.15180884 1219886.65850629 1357338.67636615 1408883.1830636\n",
      "  1494790.69422602 1546335.20092347 1632242.71208588 1649424.21431836\n",
      "  1769694.72994575 1804057.73441071]\n",
      " [ 182696.6404054   215914.2113882   249131.782371    332175.709828\n",
      "   365393.2808108   481654.77925061  498263.56474201  531481.13572481\n",
      "   531481.13572481  614525.06318181  647742.63416461  664351.41965601\n",
      "   664351.41965601  680960.20514741  747395.34711301  813830.48907861\n",
      "   847048.06006141  880265.63104421  979918.34399261  996527.12948401\n",
      "  1129397.41341521 1179223.76988941 1312094.05382062 1361920.41029482\n",
      "  1444964.33775182 1494790.69422602 1577834.62168302 1594443.40717442\n",
      "  1710704.90561422 1743922.47659702]\n",
      " [ 171278.10038006  202419.57317644  233561.04597282  311414.72796375\n",
      "   342556.20076013  451551.35554744  467122.09194563  498263.56474201\n",
      "   498263.56474201  576117.24673294  607258.71952932  622829.45592751\n",
      "   622829.45592751  638400.1923257   700683.13791845  762966.0835112\n",
      "   794107.55630757  825249.02910395  918673.44749307  934244.18389126\n",
      "  1058810.07507676 1105522.28427133 1230088.17545683 1276800.38465139\n",
      "  1354654.06664233 1401366.27583689 1479219.95782783 1494790.69422602\n",
      "  1603785.84901333 1634927.32180971]\n",
      " [ 171278.10038006  202419.57317644  233561.04597282  311414.72796375\n",
      "   342556.20076013  451551.35554744  467122.09194563  498263.56474201\n",
      "   498263.56474201  576117.24673294  607258.71952932  622829.45592751\n",
      "   622829.45592751  638400.1923257   700683.13791845  762966.0835112\n",
      "   794107.55630757  825249.02910395  918673.44749307  934244.18389126\n",
      "  1058810.07507676 1105522.28427133 1230088.17545683 1276800.38465139\n",
      "  1354654.06664233 1401366.27583689 1479219.95782783 1494790.69422602\n",
      "  1603785.84901333 1634927.32180971]\n",
      " [ 148132.41113952  175065.57680125  201998.74246298  269331.6566173\n",
      "   296264.82227903  390530.90209509  403997.48492595  430930.65058768\n",
      "   430930.65058768  498263.56474201  525196.73040374  538663.3132346\n",
      "   538663.3132346   552129.89606547  605996.22738893  659862.55871239\n",
      "   686795.72437412  713728.89003585  794528.38702104  807994.9698519\n",
      "   915727.63249882  956127.38099142 1063860.04363834 1104259.79213093\n",
      "  1171592.70628526 1211992.45477785 1279325.36893218 1292791.95176304\n",
      "  1387058.0315791  1413991.19724083]\n",
      " [ 140535.87723492  166087.854914    191639.83259308  255519.77679077\n",
      "   281071.75446985  370503.67634662  383279.66518616  408831.64286524\n",
      "   408831.64286524  472711.58706293  498263.56474201  511039.55358154\n",
      "   511039.55358154  523815.54242108  574919.49777924  626023.45313739\n",
      "   651575.43081647  677127.40849555  753783.34153278  766559.33037232\n",
      "   868767.24108863  907095.20760724 1009303.11832355 1047631.08484217\n",
      "  1111511.02903986 1149838.99555848 1213718.93975617 1226494.92859571\n",
      "  1315926.85047248 1341478.82815155]\n",
      " [ 137022.48030405  161935.65854115  186848.83677825  249131.782371\n",
      "   274044.9606081   361241.08443795  373697.6735565   398610.8517936\n",
      "   398610.8517936   460893.79738636  485806.97562346  498263.56474201\n",
      "   498263.56474201  510720.15386056  560546.51033476  610372.86680896\n",
      "   635286.04504606  660199.22328316  734938.75799446  747395.34711301\n",
      "   847048.06006141  884417.82741706  984070.54036546 1021440.30772111\n",
      "  1083723.25331386 1121093.02066951 1183375.96626226 1195832.55538081\n",
      "  1283028.67921067 1307941.85744777]\n",
      " [ 137022.48030405  161935.65854115  186848.83677825  249131.782371\n",
      "   274044.9606081   361241.08443795  373697.6735565   398610.8517936\n",
      "   398610.8517936   460893.79738636  485806.97562346  498263.56474201\n",
      "   498263.56474201  510720.15386056  560546.51033476  610372.86680896\n",
      "   635286.04504606  660199.22328316  734938.75799446  747395.34711301\n",
      "   847048.06006141  884417.82741706  984070.54036546 1021440.30772111\n",
      "  1083723.25331386 1121093.02066951 1183375.96626226 1195832.55538081\n",
      "  1283028.67921067 1307941.85744777]\n",
      " [ 133680.46858932  157986.00833283  182291.54807634  243055.39743512\n",
      "   267360.93717864  352430.32628093  364583.09615269  388888.6358962\n",
      "   388888.6358962   449652.48525498  473958.02499849  486110.79487025\n",
      "   486110.79487025  498263.56474201  546874.64422903  595485.72371606\n",
      "   619791.26345957  644096.80320308  717013.42243362  729166.19230537\n",
      "   826388.35127942  862846.66089469  960068.81986874  996527.12948401\n",
      "  1057290.97884279 1093749.28845806 1154513.13781684 1166665.9076886\n",
      "  1251735.29679089 1276040.83653441]\n",
      " [ 121797.76027027  143942.80759214  166087.854914    221450.47321867\n",
      "   243595.52054054  321103.18616707  332175.709828    354320.75714987\n",
      "   354320.75714987  409683.37545454  431828.42277641  442900.94643734\n",
      "   442900.94643734  453973.47009827  498263.56474201  542553.65938574\n",
      "   564698.70670761  586843.75402947  653278.89599507  664351.41965601\n",
      "   752931.60894348  786149.17992628  874729.36921374  907946.94019654\n",
      "   963309.55850121  996527.12948401 1051889.74778868 1062962.27144961\n",
      "  1140469.93707615 1162614.98439801]\n",
      " [ 111855.08596249  132192.37431931  152529.66267612  203372.88356817\n",
      "   223710.17192498  294890.68117384  305059.32535225  325396.61370907\n",
      "   325396.61370907  376239.83460111  396577.12295792  406745.76713633\n",
      "   406745.76713633  416914.41131474  457588.98802837  498263.56474201\n",
      "   518600.85309882  538938.14145564  599950.00652609  610118.6507045\n",
      "   691467.80413176  721973.73666699  803322.89009425  833828.82262948\n",
      "   884672.04352152  915177.97605675  966021.19694879  976189.8411272\n",
      "  1047370.35037605 1067707.63873287]\n",
      " [ 107468.61200318  127008.35964012  146548.10727706  195397.47636941\n",
      "   214937.22400636  283326.34073565  293096.21455412  312635.96219106\n",
      "   312635.96219106  361485.33128342  381025.07892036  390794.95273883\n",
      "   390794.95273883  400564.8265573   439644.32183118  478723.81710506\n",
      "   498263.56474201  517803.31237895  576422.55528977  586192.42910824\n",
      "   664351.41965601  693661.04111142  771820.03165919  801129.6531146\n",
      "   849979.02220695  879288.64366236  928138.01275472  937907.88657319\n",
      "  1006297.00330248 1025836.75093942]\n",
      " [ 103413.1926823   122215.59135181  141017.99002132  188023.9866951\n",
      "   206826.38536461  272634.78070789  282035.98004264  300838.37871215\n",
      "   300838.37871215  347844.37538593  366646.77405544  376047.97339019\n",
      "   376047.97339019  385449.17272495  423053.97006397  460658.76740299\n",
      "   479461.1660725   498263.56474201  554670.76075054  564071.96008529\n",
      "   639281.55476333  667485.15276759  742694.74744563  770898.3454499\n",
      "   817904.34212367  846107.94012793  893113.93680171  902515.13613646\n",
      "   968323.53147975  987125.93014926]\n",
      " [  92896.59681631  109786.88714654  126677.17747678  168902.90330237\n",
      "   185793.19363261  244909.20978844  253354.35495356  270244.6452838\n",
      "   270244.6452838   312470.37110939  329360.66143963  337805.80660475\n",
      "   337805.80660475  346250.95176987  380031.53243034  413812.11309082\n",
      "   430702.40342106  447592.69375129  498263.56474201  506708.70990712\n",
      "   574269.87122807  599605.30672343  667166.46804438  692501.90353974\n",
      "   734727.62936533  760063.06486069  802288.79068628  810733.9358514\n",
      "   869849.95200723  886740.24233747]\n",
      " [  91348.3202027   107957.1056941   124565.8911855   166087.854914\n",
      "   182696.6404054   240827.3896253   249131.782371    265740.5678624\n",
      "   265740.5678624   307262.5315909   323871.3170823   332175.709828\n",
      "   332175.709828    340480.1025737   373697.6735565   406915.2445393\n",
      "   423524.03003071  440132.81552211  489959.17199631  498263.56474201\n",
      "   564698.70670761  589611.88494471  656047.02691031  680960.20514741\n",
      "   722482.16887591  747395.34711301  788917.31084151  797221.70358721\n",
      "   855352.45280711  871961.23829851]\n",
      " [  80601.45900238   95256.26973009  109911.0804578   146548.10727706\n",
      "   161202.91800477  212494.75555174  219822.16091559  234476.9716433\n",
      "   234476.9716433   271113.99846256  285768.80919027  293096.21455412\n",
      "   293096.21455412  300423.61991797  329733.24137339  359042.8628288\n",
      "   373697.6735565   388352.48428421  432316.91646733  439644.32183118\n",
      "   498263.56474201  520245.78083357  578865.02374439  600847.23983595\n",
      "   637484.26665521  659466.48274677  696103.50956604  703430.91492989\n",
      "   754722.75247686  769377.56320457]\n",
      " [  77195.76355158   91231.35692459  105266.95029761  140355.93373014\n",
      "   154391.52710316  203516.10390871  210533.90059521  224569.49396823\n",
      "   224569.49396823  259658.47740076  273694.07077378  280711.86746029\n",
      "   280711.86746029  287729.66414679  315800.85089282  343872.03763885\n",
      "   357907.63101186  371943.22438488  414050.00450392  421067.80119043\n",
      "   477210.17468248  498263.56474201  554405.93823406  575459.32829358\n",
      "   610548.31172612  631601.70178564  666690.68521818  673708.48190468\n",
      "   722833.05871023  736868.65208325]\n",
      " [  69378.47104003   81992.73850185   94607.00596367  126142.67461823\n",
      "   138756.94208005  182906.87819643  189214.01192734  201828.27938917\n",
      "   201828.27938917  233363.94804372  245978.21550555  252285.34923646\n",
      "   252285.34923646  258592.48296737  283821.01789102  309049.55281466\n",
      "   321663.82027648  334278.08773831  372120.89012378  378428.02385469\n",
      "   428885.09370198  447806.49489471  498263.56474201  517184.96593474\n",
      "   548720.6345893   567642.03578203  599177.70443659  605484.8381675\n",
      "   649634.77428388  662249.0417457 ]\n",
      " [  66840.23429466   78993.00416642   91145.77403817  121527.69871756\n",
      "   133680.46858932  176215.16314047  182291.54807634  194444.3179481\n",
      "   194444.3179481   224826.24262749  236979.01249925  243055.39743512\n",
      "   243055.39743512  249131.782371    273437.32211452  297742.86185803\n",
      "   309895.63172978  322048.40160154  358506.71121681  364583.09615269\n",
      "   413194.17563971  431423.33044735  480034.40993437  498263.56474201\n",
      "   528645.4894214   546874.64422903  577256.56890842  583332.9538443\n",
      "   625867.64839545  638020.4182672 ]\n",
      " [  62998.8415191    74453.17634076   85907.51116241  114543.34821655\n",
      "   125997.68303821  166087.854914    171815.02232483  183269.35714648\n",
      "   183269.35714648  211905.19420062  223359.52902228  229086.69643311\n",
      "   229086.69643311  234813.86384393  257722.53348724  280631.20313056\n",
      "   292085.53795221  303539.87277387  337902.87723883  343630.04464966\n",
      "   389447.38393628  406628.88616876  452446.22545538  469627.72768787\n",
      "   498263.56474201  515445.06697449  544080.90402863  549808.07143946\n",
      "   589898.24331525  601352.5781369 ]\n",
      " [  60898.88013513   71971.40379607   83043.927457    110725.23660933\n",
      "   121797.76027027  160551.59308354  166087.854914    177160.37857494\n",
      "   177160.37857494  204841.68772727  215914.2113882   221450.47321867\n",
      "   221450.47321867  226986.73504914  249131.782371    271276.82969287\n",
      "   282349.3533538   293421.87701474  326639.44799754  332175.709828\n",
      "   376465.80447174  393074.58996314  437364.68460687  453973.47009827\n",
      "   481654.77925061  498263.56474201  525944.87389434  531481.13572481\n",
      "   570234.96853807  581307.49219901]\n",
      " [  57693.6759175    68183.43517522   78673.19443295  104897.59257726\n",
      "   115387.35183499  152101.50923703  157346.3888659   167836.14812362\n",
      "   167836.14812362  194060.54626794  204550.30552567  209795.18515453\n",
      "   209795.18515453  215040.06478339  236019.58329884  256999.1018143\n",
      "   267488.86107202  277978.62032975  309447.89810293  314692.77773179\n",
      "   356651.8147627   372386.45364929  414345.49068019  430080.12956678\n",
      "   456304.5277111   472039.16659769  498263.56474201  503508.44437087\n",
      "   540222.60177291  550712.36103064]\n",
      " [  57092.70012669   67473.19105881   77853.68199094  103804.90932125\n",
      "   114185.40025338  150517.11851581  155707.36398188  166087.854914\n",
      "   166087.854914    192039.08224431  202419.57317644  207609.8186425\n",
      "   207609.8186425   212800.06410857  233561.04597282  254322.02783707\n",
      "   264702.51876919  275083.00970132  306224.48249769  311414.72796375\n",
      "   352936.69169225  368507.42809044  410029.39181894  425600.12821713\n",
      "   451551.35554744  467122.09194563  493073.31927594  498263.56474201\n",
      "   534595.28300444  544975.77393657]\n",
      " [  53212.61371031   62887.63438491   72562.65505952   96750.20674602\n",
      "   106425.22742062  140287.79978173  145125.31011903  154800.33079363\n",
      "   154800.33079363  178987.88248014  188662.90315474  193500.41349204\n",
      "   193500.41349204  198337.92382934  217687.96517855  237038.00652775\n",
      "   246713.02720235  256388.04787695  285413.10990076  290250.62023806\n",
      "   328950.70293647  343463.23394837  382163.31664678  396675.84765868\n",
      "   420863.39934519  435375.93035709  459563.4820436   464400.9923809\n",
      "   498263.56474201  507938.58541661]\n",
      " [  52199.04011583   61689.77468234   71180.50924886   94907.34566514\n",
      "   104398.08023166  137615.65121446  142361.01849772  151851.75306423\n",
      "   151851.75306423  175578.58948052  185069.32404703  189814.69133029\n",
      "   189814.69133029  194560.05861355  213541.52774657  232522.9968796\n",
      "   242013.73144612  251504.46601263  279976.66971217  284722.03699543\n",
      "   322684.97526149  336921.07711126  374884.01537732  389120.11722709\n",
      "   412846.95364338  427083.05549315  450809.89190943  455555.25919269\n",
      "   488772.83017549  498263.56474201]]\n"
     ]
    }
   ],
   "source": [
    "print(ans)"
   ]
  },
  {
   "cell_type": "code",
   "execution_count": null,
   "metadata": {},
   "outputs": [],
   "source": []
  }
 ],
 "metadata": {
  "kernelspec": {
   "display_name": "Python 3",
   "language": "python",
   "name": "python3"
  },
  "language_info": {
   "codemirror_mode": {
    "name": "ipython",
    "version": 3
   },
   "file_extension": ".py",
   "mimetype": "text/x-python",
   "name": "python",
   "nbconvert_exporter": "python",
   "pygments_lexer": "ipython3",
   "version": "3.7.3"
  }
 },
 "nbformat": 4,
 "nbformat_minor": 2
}
